{
 "cells": [
  {
   "cell_type": "code",
   "execution_count": 71,
   "id": "e8b80346-0f37-4bdd-b1b3-73dc6b5242ab",
   "metadata": {
    "trusted": false,
    "pycharm": {
     "name": "#%%\n"
    }
   },
   "outputs": [],
   "source": [
    "import random"
   ]
  },
  {
   "cell_type": "code",
   "execution_count": 72,
   "id": "63b151ca-32df-4ee0-aee7-8463e587f620",
   "metadata": {
    "trusted": false,
    "pycharm": {
     "name": "#%%\n"
    }
   },
   "outputs": [],
   "source": [
    "file = './demo.csv'"
   ]
  },
  {
   "cell_type": "code",
   "execution_count": 73,
   "id": "5a1f5ef4-7b4d-4bde-8be3-55e74c225393",
   "metadata": {
    "tags": [],
    "trusted": false,
    "pycharm": {
     "name": "#%%\n"
    }
   },
   "outputs": [],
   "source": [
    "item_list = []\n",
    "user_map = {}"
   ]
  },
  {
   "cell_type": "code",
   "execution_count": 141,
   "id": "2148554f-8c9c-4fdd-b5b6-0381612f1cbf",
   "metadata": {
    "trusted": false,
    "pycharm": {
     "name": "#%%\n"
    }
   },
   "outputs": [],
   "source": [
    "fi = open(file, 'rb')\n",
    "a = fi.readline()\n",
    "# UserID,ItemID,CategoryID,BehvaiorType,Timestamp"
   ]
  },
  {
   "cell_type": "code",
   "execution_count": 146,
   "id": "229d465c-61d8-43a1-a7c7-f4f944690162",
   "metadata": {
    "trusted": false,
    "pycharm": {
     "name": "#%%\n"
    }
   },
   "outputs": [
    {
     "data": {
      "text/plain": "'2268318'"
     },
     "execution_count": 146,
     "metadata": {},
     "output_type": "execute_result"
    }
   ],
   "source": [
    "str(a).split(\",\")[1]"
   ]
  },
  {
   "cell_type": "code",
   "execution_count": 76,
   "id": "7583e759-f80b-40d1-8268-30fbf5429e9d",
   "metadata": {
    "trusted": false,
    "pycharm": {
     "name": "#%%\n"
    }
   },
   "outputs": [],
   "source": [
    "fi = open(file, \"r\")\n",
    "for line in fi:\n",
    "\n",
    "    item = line.strip().split(',')\n",
    "    if item[0] not in user_map:\n",
    "        user_map[item[0]] = []\n",
    "    user_map[item[0]].append((\"\\t\".join(item), float(item[-1])))\n",
    "    item_list.append(item[1])"
   ]
  },
  {
   "cell_type": "code",
   "execution_count": 78,
   "id": "66dca66b-d3a5-4bf5-9f23-6f883451a74e",
   "metadata": {
    "trusted": false,
    "pycharm": {
     "name": "#%%\n"
    }
   },
   "outputs": [],
   "source": [
    "fi = open(file, 'r')\n",
    "meta_map = {}  # meta_map记录item_category映射\n",
    "for line in fi:\n",
    "    arr = line.strip().split(\",\")\n",
    "    if arr[1] not in meta_map:\n",
    "        meta_map[arr[1]] = arr[2]"
   ]
  },
  {
   "cell_type": "code",
   "execution_count": 81,
   "id": "b49d9c72-6ee0-4671-858b-ad5462f84979",
   "metadata": {
    "trusted": false,
    "pycharm": {
     "name": "#%%\n"
    }
   },
   "outputs": [
    {
     "data": {
      "text/plain": "'4174564'"
     },
     "execution_count": 81,
     "metadata": {},
     "output_type": "execute_result"
    }
   ],
   "source": [
    "meta_map['1628072']"
   ]
  },
  {
   "cell_type": "code",
   "execution_count": 82,
   "id": "2cf6f368-7dac-4ee9-aae8-d7b365d5c4c8",
   "metadata": {
    "trusted": false,
    "pycharm": {
     "name": "#%%\n"
    }
   },
   "outputs": [],
   "source": [
    "!rm jointed-new_demo"
   ]
  },
  {
   "cell_type": "code",
   "execution_count": 85,
   "id": "28480e31-af58-4862-85c0-7a143340208b",
   "metadata": {
    "trusted": false,
    "pycharm": {
     "name": "#%%\n"
    }
   },
   "outputs": [],
   "source": [
    "fo = open(\"jointed-new_demo\", \"w\")\n",
    "for key in user_map:\n",
    "    sorted_user_bh = sorted(user_map[key], key=lambda x: x[1])\n",
    "    for line, t in sorted_user_bh:\n",
    "        items = line.split(\"\\t\")\n",
    "        asin = items[1]  # ItemId\n",
    "        j = 0\n",
    "        while True:\n",
    "            asin_neg_index = random.randint(0, len(item_list) - 1)\n",
    "            asin_neg = item_list[asin_neg_index]\n",
    "            if asin_neg == asin:\n",
    "                continue\n",
    "            items[1] = asin_neg\n",
    "            print(\"0\" + \"\\t\" + \"\\t\".join(items) + \"\\t\" + meta_map[asin_neg], file=fo)\n",
    "            j += 1\n",
    "            if j == 1:  # negative sampling frequency\n",
    "                break\n",
    "        if asin in meta_map:\n",
    "            print(\"1\" + \"\\t\" + line + \"\\t\" + meta_map[asin], file=fo)\n",
    "        else:\n",
    "            print(\"1\" + \"\\t\" + line + \"\\t\" + \"default_cat\", file=fo)"
   ]
  },
  {
   "cell_type": "code",
   "execution_count": 90,
   "id": "244c61fa-f288-44cf-82d1-614e0e0b7c90",
   "metadata": {
    "trusted": false,
    "pycharm": {
     "name": "#%%\n"
    }
   },
   "outputs": [],
   "source": [
    "fi = open(\"jointed-new_demo\", \"r\")\n",
    "fo = open(\"jointed-new-split-info_demo\", \"w\")\n",
    "user_count = {}\n",
    "for line in fi:\n",
    "    line = line.strip()\n",
    "    user = line.split(\"\\t\")[1]\n",
    "    if user not in user_count:\n",
    "        user_count[user] = 0\n",
    "    user_count[user] += 1\n",
    "fi.seek(0)\n",
    "i = 0\n",
    "last_user = \"A26ZDKC53OP6JD\"\n",
    "for line in fi:\n",
    "    line = line.strip()\n",
    "    user = line.split(\"\\t\")[1]\n",
    "    if user == last_user:\n",
    "        if i < user_count[user] - 20:  # 1 + negative samples\n",
    "            print(\"20180118\" + \"\\t\" + line, file=fo)\n",
    "        else:\n",
    "            print(\"20190119\" + \"\\t\" + line, file=fo)\n",
    "    else:\n",
    "        last_user = user\n",
    "        i = 0\n",
    "        if i < user_count[user] - 20:\n",
    "            print(\"20180118\" + \"\\t\" + line, file=fo)\n",
    "        else:\n",
    "            print(\"20190119\" + \"\\t\" + line, file=fo)\n",
    "    i += 1"
   ]
  },
  {
   "cell_type": "code",
   "execution_count": 91,
   "id": "46033ba6-4780-42cd-8a9d-33628b48d42f",
   "metadata": {
    "trusted": false,
    "pycharm": {
     "name": "#%%\n"
    }
   },
   "outputs": [
    {
     "name": "stdout",
     "output_type": "stream",
     "text": "local_aggretor finished\n"
    }
   ],
   "source": [
    "fin = open(\"jointed-new-split-info_demo\", \"r\")\n",
    "ftrain = open(\"local_train_demo\", \"w\")\n",
    "ftest = open(\"local_test_demo\", \"w\")\n",
    "\n",
    "last_user = \"XXXXXXX\"\n",
    "common_fea = \"\"\n",
    "line_idx = 0\n",
    "for line in fin:\n",
    "    items = line.strip().split(\"\\t\")\n",
    "    ds = items[0] #标记训练/验证集\n",
    "    clk = int(items[1]) #标记正负样本\n",
    "    user = items[2]\n",
    "    movie_id = items[3]\n",
    "    dt = items[6] #标记时间戳\n",
    "    cat1 = items[7]  #标记类别\n",
    "\n",
    "    if ds==\"20180118\":\n",
    "        fo = ftrain\n",
    "        tag = 1\n",
    "    else:\n",
    "        fo = ftest\n",
    "        tag = 0\n",
    "    if user != last_user:\n",
    "        movie_id_list = []\n",
    "        cate1_list = []\n",
    "        # print >> fo, items[1] + \"\\t\" + user + \"\\t\" + movie_id + \"\\t\" + cat1 +\"\\t\" + \"\" + \"\\t\" + \"\"\n",
    "    else:\n",
    "        history_clk_num = len(movie_id_list)\n",
    "        # cat_str = \"\"\n",
    "        # mid_str = \"\"\n",
    "        # for c1 in cate1_list:\n",
    "        #     cat_str += c1 + \",\"\n",
    "        # for mid in movie_id_list:\n",
    "        #     mid_str += mid + \",\"\n",
    "        # if len(cat_str) > 0: cat_str = cat_str[:-1]\n",
    "        # if len(mid_str) > 0: mid_str = mid_str[:-1]\n",
    "        if history_clk_num >= 1: \n",
    "            if tag == 1:\n",
    "                print(items[1] + \"\\t\" + user + \"\\t\" + movie_id + \"\\t\" + cat1 +\"\\t\" + ','.join(movie_id_list[-100:]) + \"\\t\" + ','.join(cate1_list[-100:]), file=fo)\n",
    "            else:\n",
    "                print(items[1] + \"\\t\" + user + \"\\t\" + movie_id + \"\\t\" + cat1 +\"\\t\" + ','.join(movie_id_list) + \"\\t\" + ','.join(cate1_list), file=fo)\n",
    "    last_user = user\n",
    "    if clk:\n",
    "        movie_id_list.append(movie_id)\n",
    "        cate1_list.append(cat1)\n",
    "    line_idx += 1\n",
    "\n",
    "print('local_aggretor finished')"
   ]
  },
  {
   "cell_type": "markdown",
   "id": "c17323f7-f827-4145-ab2d-b36205323ffc",
   "metadata": {
    "tags": [],
    "pycharm": {
     "name": "#%% md\n"
    }
   },
   "source": [
    "### generate map_id voc \n",
    "### save in pkl"
   ]
  },
  {
   "cell_type": "code",
   "execution_count": 116,
   "id": "11e1df9c-cd8c-4104-b989-2200ae3ed2dc",
   "metadata": {
    "trusted": false,
    "pycharm": {
     "name": "#%%\n"
    }
   },
   "outputs": [],
   "source": [
    "import pickle as pkl"
   ]
  },
  {
   "cell_type": "code",
   "execution_count": 94,
   "id": "b5bba1d1-932f-4ffa-856d-7716d9f8916c",
   "metadata": {
    "trusted": false,
    "pycharm": {
     "name": "#%%\n"
    }
   },
   "outputs": [],
   "source": [
    "f_in = open(\"jointed-new_demo\",\"r\")"
   ]
  },
  {
   "cell_type": "code",
   "execution_count": 95,
   "id": "8d79239d-a819-49b2-8b85-ddf084ada518",
   "metadata": {
    "trusted": false,
    "pycharm": {
     "name": "#%%\n"
    }
   },
   "outputs": [],
   "source": [
    "line = f_in.readline()"
   ]
  },
  {
   "cell_type": "code",
   "execution_count": 98,
   "id": "42539b03-46e4-4c6f-ae8e-f2ee307c2d3d",
   "metadata": {
    "trusted": false,
    "pycharm": {
     "name": "#%%\n"
    }
   },
   "outputs": [
    {
     "data": {
      "text/plain": "['0', '1', '2858817', '2520377', 'pv', '1511544070', '4339722']"
     },
     "execution_count": 98,
     "metadata": {},
     "output_type": "execute_result"
    }
   ],
   "source": [
    "line.strip(\"\\n\").split(\"\\t\")"
   ]
  },
  {
   "cell_type": "code",
   "execution_count": 99,
   "id": "839ec88e-dcdc-4d06-b289-f11ee2302ffd",
   "metadata": {
    "tags": [],
    "trusted": false,
    "pycharm": {
     "name": "#%%\n"
    }
   },
   "outputs": [],
   "source": [
    "import pickle\n",
    "f_in = open(\"jointed-new_demo\", \"r\")\n",
    "uid_dict = {}\n",
    "mid_dict = {}\n",
    "cat_dict = {}\n",
    "iddd = 0\n",
    "for line in f_in:\n",
    "    arr = line.strip(\"\\n\").split(\"\\t\")\n",
    "    uid = arr[1]\n",
    "    mid = arr[2]\n",
    "    cat = arr[6]\n",
    "    # mid_list = arr[4]\n",
    "    # cat_list = arr[5]\n",
    "    if uid not in uid_dict:\n",
    "        uid_dict[uid] = 0\n",
    "    uid_dict[uid] += 1\n",
    "    if mid not in mid_dict:\n",
    "        mid_dict[mid] = 0\n",
    "    mid_dict[mid] += 1\n",
    "    if cat not in cat_dict:\n",
    "        cat_dict[cat] = 0\n",
    "    cat_dict[cat] += 1\n"
   ]
  },
  {
   "cell_type": "code",
   "execution_count": 107,
   "id": "a13025a1-2986-4516-9ad9-73c4e9d84501",
   "metadata": {
    "trusted": false,
    "pycharm": {
     "name": "#%%\n"
    }
   },
   "outputs": [
    {
     "data": {
      "text/plain": "('100', 196)"
     },
     "execution_count": 107,
     "metadata": {},
     "output_type": "execute_result"
    }
   ],
   "source": [
    "list(uid_dict.items())[1]"
   ]
  },
  {
   "cell_type": "code",
   "execution_count": 108,
   "id": "6dae6c62-2b61-468e-a542-4cadbd168394",
   "metadata": {
    "trusted": false,
    "pycharm": {
     "name": "#%%\n"
    }
   },
   "outputs": [],
   "source": [
    "\n",
    "sorted_uid_dict = sorted(uid_dict.items(), key=lambda x:x[1], reverse=True)\n",
    "sorted_mid_dict = sorted(mid_dict.items(), key=lambda x:x[1], reverse=True)\n",
    "sorted_cat_dict = sorted(cat_dict.items(), key=lambda x:x[1], reverse=True)"
   ]
  },
  {
   "cell_type": "code",
   "execution_count": 110,
   "id": "7d192fa8-aa6f-4c85-b332-b502ab542a3f",
   "metadata": {
    "trusted": false,
    "pycharm": {
     "name": "#%%\n"
    }
   },
   "outputs": [
    {
     "name": "stdout",
     "output_type": "stream",
     "text": "3128\n"
    }
   ],
   "source": [
    "print(len(sorted_cat_dict))"
   ]
  },
  {
   "cell_type": "code",
   "execution_count": 147,
   "id": "4c65d9cc-7b21-4af1-b3fc-ff3a069626a3",
   "metadata": {
    "trusted": false,
    "pycharm": {
     "name": "#%%\n"
    }
   },
   "outputs": [],
   "source": [
    "uid_voc = {}\n",
    "uid_voc[\"default_uid\"] = 0\n",
    "index = 1\n",
    "for key, value in sorted_uid_dict:\n",
    "    uid_voc[key] = index\n",
    "    index += 1\n",
    "\n",
    "mid_voc = {}\n",
    "mid_voc[\"default_mid\"] = 0\n",
    "index = 1\n",
    "for key, value in sorted_mid_dict:\n",
    "    mid_voc[key] = index\n",
    "    index += 1\n",
    "\n",
    "cat_voc = {}\n",
    "cat_voc[\"default_cat\"] = 0\n",
    "index = 1\n",
    "for key, value in sorted_cat_dict:\n",
    "    cat_voc[key] = index\n",
    "    index += 1"
   ]
  },
  {
   "cell_type": "code",
   "execution_count": 165,
   "id": "65faf5b5-2aa7-4d44-9f36-d3a8c419770b",
   "metadata": {
    "trusted": false,
    "pycharm": {
     "name": "#%%\n"
    }
   },
   "outputs": [],
   "source": [
    "pickle.dump(uid_voc, open(\"uid_voc.pkl\", \"wb\"))\n",
    "pickle.dump(mid_voc, open(\"mid_voc.pkl\", \"wb\"))\n",
    "pickle.dump(cat_voc, open(\"cat_voc.pkl\", \"wb\"))"
   ]
  }
 ],
 "metadata": {
  "kernelspec": {
   "display_name": "Python 3",
   "language": "python",
   "name": "python3"
  },
  "language_info": {
   "codemirror_mode": {
    "name": "ipython",
    "version": 3
   },
   "file_extension": ".py",
   "mimetype": "text/x-python",
   "name": "python",
   "nbconvert_exporter": "python",
   "pygments_lexer": "ipython3",
   "version": "3.6.13"
  }
 },
 "nbformat": 4,
 "nbformat_minor": 5
}