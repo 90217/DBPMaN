{
 "cells": [
  {
   "cell_type": "code",
   "execution_count": 71,
   "id": "e8b80346-0f37-4bdd-b1b3-73dc6b5242ab",
   "metadata": {
    "trusted": false,
    "pycharm": {
     "name": "#%%\n"
    }
   },
   "outputs": [],
   "source": [
    "import random"
   ]
  },
  {
   "cell_type": "code",
   "execution_count": 72,
   "id": "63b151ca-32df-4ee0-aee7-8463e587f620",
   "metadata": {
    "trusted": false,
    "pycharm": {
     "name": "#%%\n"
    }
   },
   "outputs": [],
   "source": [
    "file = './UserBehavior.csv'"
   ]
  },
  {
   "cell_type": "code",
   "execution_count": 73,
   "id": "5a1f5ef4-7b4d-4bde-8be3-55e74c225393",
   "metadata": {
    "tags": [],
    "trusted": false,
    "pycharm": {
     "name": "#%%\n"
    }
   },
   "outputs": [],
   "source": [
    "item_list = []\n",
    "user_map = {}"
   ]
  },
  {
   "cell_type": "code",
   "execution_count": 75,
   "id": "2148554f-8c9c-4fdd-b5b6-0381612f1cbf",
   "metadata": {
    "trusted": false,
    "pycharm": {
     "name": "#%%\n"
    }
   },
   "outputs": [
    {
     "data": {
      "text/plain": "'1,2268318,2520377,pv,1511544070\\n'"
     },
     "execution_count": 75,
     "metadata": {},
     "output_type": "execute_result"
    }
   ],
   "source": [
    "fi = open(file, 'r')\n",
    "fi.readline()\n",
    "# UserID,ItemID,CategoryID,BehvaiorType,Timestamp"
   ]
  },
  {
   "cell_type": "code",
   "execution_count": 76,
   "id": "7583e759-f80b-40d1-8268-30fbf5429e9d",
   "metadata": {
    "trusted": false,
    "pycharm": {
     "name": "#%%\n"
    }
   },
   "outputs": [],
   "source": [
    "fi = open(file, \"r\")\n",
    "for line in fi:\n",
    "\n",
    "    item = line.strip().split(',')\n",
    "    if item[0] not in user_map:\n",
    "        user_map[item[0]] = []\n",
    "    user_map[item[0]].append((\"\\t\".join(item), float(item[-1])))\n",
    "    item_list.append(item[1])"
   ]
  },
  {
   "cell_type": "code",
   "execution_count": 78,
   "id": "66dca66b-d3a5-4bf5-9f23-6f883451a74e",
   "metadata": {
    "trusted": false,
    "pycharm": {
     "name": "#%%\n"
    }
   },
   "outputs": [],
   "source": [
    "fi = open(file, 'r')\n",
    "meta_map = {}  # meta_map记录item_category映射\n",
    "for line in fi:\n",
    "    arr = line.strip().split(\",\")\n",
    "    if arr[1] not in meta_map:\n",
    "        meta_map[arr[1]] = arr[2]"
   ]
  },
  {
   "cell_type": "code",
   "execution_count": 81,
   "id": "b49d9c72-6ee0-4671-858b-ad5462f84979",
   "metadata": {
    "trusted": false,
    "pycharm": {
     "name": "#%%\n"
    }
   },
   "outputs": [
    {
     "data": {
      "text/plain": "'4174564'"
     },
     "execution_count": 81,
     "metadata": {},
     "output_type": "execute_result"
    }
   ],
   "source": [
    "meta_map['1628072']"
   ]
  },
  {
   "cell_type": "code",
   "execution_count": 82,
   "id": "2cf6f368-7dac-4ee9-aae8-d7b365d5c4c8",
   "metadata": {
    "trusted": false,
    "pycharm": {
     "name": "#%%\n"
    }
   },
   "outputs": [],
   "source": [
    "!rm jointed-new_demo"
   ]
  },
  {
   "cell_type": "code",
   "execution_count": 85,
   "id": "28480e31-af58-4862-85c0-7a143340208b",
   "metadata": {
    "trusted": false,
    "pycharm": {
     "name": "#%%\n"
    }
   },
   "outputs": [],
   "source": [
    "fo = open(\"jointed-new\", \"w\")\n",
    "for key in user_map:\n",
    "    sorted_user_bh = sorted(user_map[key], key=lambda x: x[1])\n",
    "    for line, t in sorted_user_bh:\n",
    "        items = line.split(\"\\t\")\n",
    "        asin = items[1]  # ItemId\n",
    "        j = 0\n",
    "        while True:\n",
    "            asin_neg_index = random.randint(0, len(item_list) - 1)\n",
    "            asin_neg = item_list[asin_neg_index]\n",
    "            if asin_neg == asin:\n",
    "                continue\n",
    "            items[1] = asin_neg\n",
    "            print(\"0\" + \"\\t\" + \"\\t\".join(items) + \"\\t\" + meta_map[asin_neg], file=fo)\n",
    "            j += 1\n",
    "            if j == 1:  # negative sampling frequency\n",
    "                break\n",
    "        if asin in meta_map:\n",
    "            print(\"1\" + \"\\t\" + line + \"\\t\" + meta_map[asin], file=fo)\n",
    "        else:\n",
    "            print(\"1\" + \"\\t\" + line + \"\\t\" + \"default_cat\", file=fo)"
   ]
  },
  {
   "cell_type": "code",
   "execution_count": 90,
   "id": "244c61fa-f288-44cf-82d1-614e0e0b7c90",
   "metadata": {
    "trusted": false,
    "pycharm": {
     "name": "#%%\n"
    }
   },
   "outputs": [],
   "source": [
    "fi = open(\"jointed-new\", \"r\")\n",
    "fo = open(\"jointed-new-split-info\", \"w\")\n",
    "user_count = {}\n",
    "for line in fi:\n",
    "    line = line.strip()\n",
    "    user = line.split(\"\\t\")[1]\n",
    "    if user not in user_count:\n",
    "        user_count[user] = 0\n",
    "    user_count[user] += 1\n",
    "fi.seek(0)\n",
    "i = 0\n",
    "last_user = \"A26ZDKC53OP6JD\"\n",
    "for line in fi:\n",
    "    line = line.strip()\n",
    "    user = line.split(\"\\t\")[1]\n",
    "    if user == last_user:\n",
    "        if i < user_count[user] - 20:  # 1 + negative samples\n",
    "            print(\"20180118\" + \"\\t\" + line, file=fo)\n",
    "        else:\n",
    "            print(\"20190119\" + \"\\t\" + line, file=fo)\n",
    "    else:\n",
    "        last_user = user\n",
    "        i = 0\n",
    "        if i < user_count[user] - 20:\n",
    "            print(\"20180118\" + \"\\t\" + line, file=fo)\n",
    "        else:\n",
    "            print(\"20190119\" + \"\\t\" + line, file=fo)\n",
    "    i += 1"
   ]
  },
  {
   "cell_type": "code",
   "execution_count": 91,
   "id": "46033ba6-4780-42cd-8a9d-33628b48d42f",
   "metadata": {
    "trusted": false,
    "pycharm": {
     "name": "#%%\n"
    }
   },
   "outputs": [
    {
     "name": "stdout",
     "output_type": "stream",
     "text": "local_aggretor finished\n"
    }
   ],
   "source": [
    "fin = open(\"jointed-new-split-info\", \"r\")\n",
    "ftrain = open(\"local_train\", \"w\")\n",
    "ftest = open(\"local_test\", \"w\")\n",
    "\n",
    "last_user = \"XXXXXXX\"\n",
    "common_fea = \"\"\n",
    "line_idx = 0\n",
    "for line in fin:\n",
    "    items = line.strip().split(\"\\t\")\n",
    "    ds = items[0] #标记训练/验证集\n",
    "    clk = int(items[1]) #标记正负样本\n",
    "    user = items[2]\n",
    "    movie_id = items[3]\n",
    "    dt = items[6] #标记时间戳\n",
    "    cat1 = items[7]  #标记类别\n",
    "\n",
    "    if ds==\"20180118\":\n",
    "        fo = ftrain\n",
    "        tag = 1\n",
    "    else:\n",
    "        fo = ftest\n",
    "        tag = 0\n",
    "    if user != last_user:\n",
    "        movie_id_list = []\n",
    "        cate1_list = []\n",
    "        # print >> fo, items[1] + \"\\t\" + user + \"\\t\" + movie_id + \"\\t\" + cat1 +\"\\t\" + \"\" + \"\\t\" + \"\"\n",
    "    else:\n",
    "        history_clk_num = len(movie_id_list)\n",
    "        # cat_str = \"\"\n",
    "        # mid_str = \"\"\n",
    "        # for c1 in cate1_list:\n",
    "        #     cat_str += c1 + \",\"\n",
    "        # for mid in movie_id_list:\n",
    "        #     mid_str += mid + \",\"\n",
    "        # if len(cat_str) > 0: cat_str = cat_str[:-1]\n",
    "        # if len(mid_str) > 0: mid_str = mid_str[:-1]\n",
    "        if history_clk_num >= 1: \n",
    "            if tag == 1:\n",
    "                print(items[1] + \"\\t\" + user + \"\\t\" + movie_id + \"\\t\" + cat1 +\"\\t\" + ','.join(movie_id_list[-100:]) + \"\\t\" + ','.join(cate1_list[-100:]), file=fo)\n",
    "            else:\n",
    "                print(items[1] + \"\\t\" + user + \"\\t\" + movie_id + \"\\t\" + cat1 +\"\\t\" + ','.join(movie_id_list) + \"\\t\" + ','.join(cate1_list), file=fo)\n",
    "    last_user = user\n",
    "    if clk:\n",
    "        movie_id_list.append(movie_id)\n",
    "        cate1_list.append(cat1)\n",
    "    line_idx += 1\n",
    "\n",
    "print('local_aggretor finished')"
   ]
  },
  {
   "cell_type": "code",
   "execution_count": 70,
   "id": "4ed50517-5d1c-44b3-9f2e-e7a38c35994f",
   "metadata": {
    "trusted": false,
    "pycharm": {
     "name": "#%%\n"
    }
   },
   "outputs": [
    {
     "name": "stdout",
     "output_type": "stream",
     "text": "/home/sankuai\n"
    }
   ],
   "source": [
    "!pwd"
   ]
  }
 ],
 "metadata": {
  "kernelspec": {
   "display_name": "Python 3",
   "language": "python",
   "name": "python3"
  },
  "language_info": {
   "codemirror_mode": {
    "name": "ipython",
    "version": 3
   },
   "file_extension": ".py",
   "mimetype": "text/x-python",
   "name": "python",
   "nbconvert_exporter": "python",
   "pygments_lexer": "ipython3",
   "version": "3.6.13"
  }
 },
 "nbformat": 4,
 "nbformat_minor": 5
}